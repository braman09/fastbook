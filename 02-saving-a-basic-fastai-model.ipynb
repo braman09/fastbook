{
 "cells": [
  {
   "cell_type": "markdown",
   "id": "1e3bf124",
   "metadata": {
    "id": "98d53c05",
    "papermill": {
     "duration": 0.004782,
     "end_time": "2024-05-13T17:25:04.848325",
     "exception": false,
     "start_time": "2024-05-13T17:25:04.843543",
     "status": "completed"
    },
    "tags": []
   },
   "source": [
    "## Saving a Cats v Dogs Model"
   ]
  },
  {
   "cell_type": "markdown",
   "id": "5850abff",
   "metadata": {
    "papermill": {
     "duration": 0.004007,
     "end_time": "2024-05-13T17:25:04.856892",
     "exception": false,
     "start_time": "2024-05-13T17:25:04.852885",
     "status": "completed"
    },
    "tags": []
   },
   "source": [
    "This is a minimal example showing how to train a fastai model on Kaggle, and save it so you can use it in your app."
   ]
  },
  {
   "cell_type": "code",
   "execution_count": 1,
   "id": "070d7d81",
   "metadata": {
    "_kg_hide-input": true,
    "_kg_hide-output": true,
    "execution": {
     "iopub.execute_input": "2024-05-13T17:25:04.867516Z",
     "iopub.status.busy": "2024-05-13T17:25:04.866669Z",
     "iopub.status.idle": "2024-05-13T17:25:19.203268Z",
     "shell.execute_reply": "2024-05-13T17:25:19.202211Z"
    },
    "id": "evvA0fqvSblq",
    "outputId": "ba21b811-767c-459a-ccdf-044758720a55",
    "papermill": {
     "duration": 14.344584,
     "end_time": "2024-05-13T17:25:19.205695",
     "exception": false,
     "start_time": "2024-05-13T17:25:04.861111",
     "status": "completed"
    },
    "tags": []
   },
   "outputs": [],
   "source": [
    "# Make sure we've got the latest version of fastai:\n",
    "!pip install -Uqq fastai"
   ]
  },
  {
   "cell_type": "markdown",
   "id": "d713ce1a",
   "metadata": {
    "papermill": {
     "duration": 0.005097,
     "end_time": "2024-05-13T17:25:19.215300",
     "exception": false,
     "start_time": "2024-05-13T17:25:19.210203",
     "status": "completed"
    },
    "tags": []
   },
   "source": [
    "First, import all the stuff we need from fastai:"
   ]
  },
  {
   "cell_type": "code",
   "execution_count": 2,
   "id": "8ed8e904",
   "metadata": {
    "execution": {
     "iopub.execute_input": "2024-05-13T17:25:19.225011Z",
     "iopub.status.busy": "2024-05-13T17:25:19.224661Z",
     "iopub.status.idle": "2024-05-13T17:25:30.477067Z",
     "shell.execute_reply": "2024-05-13T17:25:30.476087Z"
    },
    "id": "44eb0ad3",
    "papermill": {
     "duration": 11.26002,
     "end_time": "2024-05-13T17:25:30.479481",
     "exception": false,
     "start_time": "2024-05-13T17:25:19.219461",
     "status": "completed"
    },
    "tags": []
   },
   "outputs": [],
   "source": [
    "from fastai.vision.all import *"
   ]
  },
  {
   "cell_type": "markdown",
   "id": "3656f7c8",
   "metadata": {
    "papermill": {
     "duration": 0.004071,
     "end_time": "2024-05-13T17:25:30.488106",
     "exception": false,
     "start_time": "2024-05-13T17:25:30.484035",
     "status": "completed"
    },
    "tags": []
   },
   "source": [
    "Download and decompress our dataset, which is pictures of dogs and cats:"
   ]
  },
  {
   "cell_type": "code",
   "execution_count": 3,
   "id": "b718865f",
   "metadata": {
    "execution": {
     "iopub.execute_input": "2024-05-13T17:25:30.497762Z",
     "iopub.status.busy": "2024-05-13T17:25:30.497459Z",
     "iopub.status.idle": "2024-05-13T17:25:56.679156Z",
     "shell.execute_reply": "2024-05-13T17:25:56.678053Z"
    },
    "papermill": {
     "duration": 26.189483,
     "end_time": "2024-05-13T17:25:56.681860",
     "exception": false,
     "start_time": "2024-05-13T17:25:30.492377",
     "status": "completed"
    },
    "tags": []
   },
   "outputs": [
    {
     "data": {
      "text/html": [
       "\n",
       "<style>\n",
       "    /* Turns off some styling */\n",
       "    progress {\n",
       "        /* gets rid of default border in Firefox and Opera. */\n",
       "        border: none;\n",
       "        /* Needs to be in here for Safari polyfill so background images work as expected. */\n",
       "        background-size: auto;\n",
       "    }\n",
       "    progress:not([value]), progress:not([value])::-webkit-progress-bar {\n",
       "        background: repeating-linear-gradient(45deg, #7e7e7e, #7e7e7e 10px, #5c5c5c 10px, #5c5c5c 20px);\n",
       "    }\n",
       "    .progress-bar-interrupted, .progress-bar-interrupted::-webkit-progress-bar {\n",
       "        background: #F44336;\n",
       "    }\n",
       "</style>\n"
      ],
      "text/plain": [
       "<IPython.core.display.HTML object>"
      ]
     },
     "metadata": {},
     "output_type": "display_data"
    },
    {
     "data": {
      "text/html": [
       "\n",
       "    <div>\n",
       "      <progress value='811712512' class='' max='811706944' style='width:300px; height:20px; vertical-align: middle;'></progress>\n",
       "      100.00% [811712512/811706944 00:16&lt;00:00]\n",
       "    </div>\n",
       "    "
      ],
      "text/plain": [
       "<IPython.core.display.HTML object>"
      ]
     },
     "metadata": {},
     "output_type": "display_data"
    }
   ],
   "source": [
    "path = untar_data(URLs.PETS)/'images'"
   ]
  },
  {
   "cell_type": "markdown",
   "id": "e9523928",
   "metadata": {
    "papermill": {
     "duration": 0.004307,
     "end_time": "2024-05-13T17:25:56.691369",
     "exception": false,
     "start_time": "2024-05-13T17:25:56.687062",
     "status": "completed"
    },
    "tags": []
   },
   "source": [
    "We need a way to label our images as dogs or cats. In this dataset, pictures of cats are given a filename that starts with a capital letter:"
   ]
  },
  {
   "cell_type": "code",
   "execution_count": 4,
   "id": "a032391a",
   "metadata": {
    "execution": {
     "iopub.execute_input": "2024-05-13T17:25:56.701742Z",
     "iopub.status.busy": "2024-05-13T17:25:56.701412Z",
     "iopub.status.idle": "2024-05-13T17:25:56.705685Z",
     "shell.execute_reply": "2024-05-13T17:25:56.704846Z"
    },
    "id": "44eb0ad3",
    "papermill": {
     "duration": 0.011793,
     "end_time": "2024-05-13T17:25:56.707628",
     "exception": false,
     "start_time": "2024-05-13T17:25:56.695835",
     "status": "completed"
    },
    "tags": []
   },
   "outputs": [],
   "source": [
    "def is_cat(x): return x[0].isupper() "
   ]
  },
  {
   "cell_type": "markdown",
   "id": "f6106a32",
   "metadata": {
    "papermill": {
     "duration": 0.004359,
     "end_time": "2024-05-13T17:25:56.716785",
     "exception": false,
     "start_time": "2024-05-13T17:25:56.712426",
     "status": "completed"
    },
    "tags": []
   },
   "source": [
    "Now we can create our `DataLoaders`:"
   ]
  },
  {
   "cell_type": "code",
   "execution_count": 5,
   "id": "d833b18c",
   "metadata": {
    "execution": {
     "iopub.execute_input": "2024-05-13T17:25:56.726734Z",
     "iopub.status.busy": "2024-05-13T17:25:56.726460Z",
     "iopub.status.idle": "2024-05-13T17:25:57.534626Z",
     "shell.execute_reply": "2024-05-13T17:25:57.533830Z"
    },
    "id": "44eb0ad3",
    "papermill": {
     "duration": 0.815799,
     "end_time": "2024-05-13T17:25:57.537026",
     "exception": false,
     "start_time": "2024-05-13T17:25:56.721227",
     "status": "completed"
    },
    "tags": []
   },
   "outputs": [],
   "source": [
    "dls = ImageDataLoaders.from_name_func('.',\n",
    "    get_image_files(path), valid_pct=0.2, seed=42,\n",
    "    label_func=is_cat,\n",
    "    item_tfms=Resize(224))"
   ]
  },
  {
   "cell_type": "markdown",
   "id": "2bfc3b2a",
   "metadata": {
    "papermill": {
     "duration": 0.004359,
     "end_time": "2024-05-13T17:25:57.546204",
     "exception": false,
     "start_time": "2024-05-13T17:25:57.541845",
     "status": "completed"
    },
    "tags": []
   },
   "source": [
    "... and train our model, a resnet18 (to keep it small and fast):"
   ]
  },
  {
   "cell_type": "code",
   "execution_count": 6,
   "id": "7caa8292",
   "metadata": {
    "execution": {
     "iopub.execute_input": "2024-05-13T17:25:57.556151Z",
     "iopub.status.busy": "2024-05-13T17:25:57.555838Z",
     "iopub.status.idle": "2024-05-13T17:27:28.191492Z",
     "shell.execute_reply": "2024-05-13T17:27:28.190469Z"
    },
    "id": "c107f724",
    "outputId": "fcc1de68-7c8b-43f5-b9eb-fcdb0773ef07",
    "papermill": {
     "duration": 90.64289,
     "end_time": "2024-05-13T17:27:28.193487",
     "exception": false,
     "start_time": "2024-05-13T17:25:57.550597",
     "status": "completed"
    },
    "tags": []
   },
   "outputs": [
    {
     "name": "stderr",
     "output_type": "stream",
     "text": [
      "/opt/conda/lib/python3.10/site-packages/fastai/vision/learner.py:301: UserWarning: `cnn_learner` has been renamed to `vision_learner` -- please update your code\n",
      "  warn(\"`cnn_learner` has been renamed to `vision_learner` -- please update your code\")\n",
      "Downloading: \"https://download.pytorch.org/models/resnet34-b627a593.pth\" to /root/.cache/torch/hub/checkpoints/resnet34-b627a593.pth\n",
      "100%|██████████| 83.3M/83.3M [00:00<00:00, 165MB/s]\n"
     ]
    },
    {
     "data": {
      "text/html": [
       "\n",
       "<style>\n",
       "    /* Turns off some styling */\n",
       "    progress {\n",
       "        /* gets rid of default border in Firefox and Opera. */\n",
       "        border: none;\n",
       "        /* Needs to be in here for Safari polyfill so background images work as expected. */\n",
       "        background-size: auto;\n",
       "    }\n",
       "    progress:not([value]), progress:not([value])::-webkit-progress-bar {\n",
       "        background: repeating-linear-gradient(45deg, #7e7e7e, #7e7e7e 10px, #5c5c5c 10px, #5c5c5c 20px);\n",
       "    }\n",
       "    .progress-bar-interrupted, .progress-bar-interrupted::-webkit-progress-bar {\n",
       "        background: #F44336;\n",
       "    }\n",
       "</style>\n"
      ],
      "text/plain": [
       "<IPython.core.display.HTML object>"
      ]
     },
     "metadata": {},
     "output_type": "display_data"
    },
    {
     "data": {
      "text/html": [
       "<table border=\"1\" class=\"dataframe\">\n",
       "  <thead>\n",
       "    <tr style=\"text-align: left;\">\n",
       "      <th>epoch</th>\n",
       "      <th>train_loss</th>\n",
       "      <th>valid_loss</th>\n",
       "      <th>error_rate</th>\n",
       "      <th>time</th>\n",
       "    </tr>\n",
       "  </thead>\n",
       "  <tbody>\n",
       "    <tr>\n",
       "      <td>0</td>\n",
       "      <td>0.171676</td>\n",
       "      <td>0.029973</td>\n",
       "      <td>0.008119</td>\n",
       "      <td>00:22</td>\n",
       "    </tr>\n",
       "  </tbody>\n",
       "</table>"
      ],
      "text/plain": [
       "<IPython.core.display.HTML object>"
      ]
     },
     "metadata": {},
     "output_type": "display_data"
    },
    {
     "data": {
      "text/html": [
       "\n",
       "<style>\n",
       "    /* Turns off some styling */\n",
       "    progress {\n",
       "        /* gets rid of default border in Firefox and Opera. */\n",
       "        border: none;\n",
       "        /* Needs to be in here for Safari polyfill so background images work as expected. */\n",
       "        background-size: auto;\n",
       "    }\n",
       "    progress:not([value]), progress:not([value])::-webkit-progress-bar {\n",
       "        background: repeating-linear-gradient(45deg, #7e7e7e, #7e7e7e 10px, #5c5c5c 10px, #5c5c5c 20px);\n",
       "    }\n",
       "    .progress-bar-interrupted, .progress-bar-interrupted::-webkit-progress-bar {\n",
       "        background: #F44336;\n",
       "    }\n",
       "</style>\n"
      ],
      "text/plain": [
       "<IPython.core.display.HTML object>"
      ]
     },
     "metadata": {},
     "output_type": "display_data"
    },
    {
     "data": {
      "text/html": [
       "<table border=\"1\" class=\"dataframe\">\n",
       "  <thead>\n",
       "    <tr style=\"text-align: left;\">\n",
       "      <th>epoch</th>\n",
       "      <th>train_loss</th>\n",
       "      <th>valid_loss</th>\n",
       "      <th>error_rate</th>\n",
       "      <th>time</th>\n",
       "    </tr>\n",
       "  </thead>\n",
       "  <tbody>\n",
       "    <tr>\n",
       "      <td>0</td>\n",
       "      <td>0.050918</td>\n",
       "      <td>0.040768</td>\n",
       "      <td>0.009472</td>\n",
       "      <td>00:22</td>\n",
       "    </tr>\n",
       "    <tr>\n",
       "      <td>1</td>\n",
       "      <td>0.037335</td>\n",
       "      <td>0.029696</td>\n",
       "      <td>0.006766</td>\n",
       "      <td>00:22</td>\n",
       "    </tr>\n",
       "    <tr>\n",
       "      <td>2</td>\n",
       "      <td>0.018695</td>\n",
       "      <td>0.005388</td>\n",
       "      <td>0.002706</td>\n",
       "      <td>00:22</td>\n",
       "    </tr>\n",
       "  </tbody>\n",
       "</table>"
      ],
      "text/plain": [
       "<IPython.core.display.HTML object>"
      ]
     },
     "metadata": {},
     "output_type": "display_data"
    }
   ],
   "source": [
    "learn = cnn_learner(dls, resnet34, metrics=error_rate)\n",
    "learn.fine_tune(3)"
   ]
  },
  {
   "cell_type": "markdown",
   "id": "5049b781",
   "metadata": {
    "papermill": {
     "duration": 0.005712,
     "end_time": "2024-05-13T17:27:28.205360",
     "exception": false,
     "start_time": "2024-05-13T17:27:28.199648",
     "status": "completed"
    },
    "tags": []
   },
   "source": [
    "Now we can export our trained `Learner`. This contains all the information needed to run the model:"
   ]
  },
  {
   "cell_type": "code",
   "execution_count": 7,
   "id": "0bda27cd",
   "metadata": {
    "execution": {
     "iopub.execute_input": "2024-05-13T17:27:28.218700Z",
     "iopub.status.busy": "2024-05-13T17:27:28.218346Z",
     "iopub.status.idle": "2024-05-13T17:27:28.444708Z",
     "shell.execute_reply": "2024-05-13T17:27:28.443901Z"
    },
    "id": "ae2bc6ac",
    "papermill": {
     "duration": 0.235745,
     "end_time": "2024-05-13T17:27:28.446937",
     "exception": false,
     "start_time": "2024-05-13T17:27:28.211192",
     "status": "completed"
    },
    "tags": []
   },
   "outputs": [],
   "source": [
    "learn.export('model.pkl')"
   ]
  },
  {
   "cell_type": "markdown",
   "id": "f996692a",
   "metadata": {
    "id": "Q2HTrQKTf3BV",
    "papermill": {
     "duration": 0.005714,
     "end_time": "2024-05-13T17:27:28.458764",
     "exception": false,
     "start_time": "2024-05-13T17:27:28.453050",
     "status": "completed"
    },
    "tags": []
   },
   "source": [
    "Finally, open the Kaggle sidebar on the right if it's not already, and find the section marked \"Output\". Open the `/kaggle/working` folder, and you'll see `model.pkl`. Click on it, then click on the menu on the right that appears, and choose \"Download\". After a few seconds, your model will be downloaded to your computer, where you can then create your app that uses the model."
   ]
  }
 ],
 "metadata": {
  "kaggle": {
   "accelerator": "gpu",
   "dataSources": [],
   "dockerImageVersionId": 30698,
   "isGpuEnabled": true,
   "isInternetEnabled": true,
   "language": "python",
   "sourceType": "notebook"
  },
  "kernelspec": {
   "display_name": "Python 3",
   "language": "python",
   "name": "python3"
  },
  "language_info": {
   "codemirror_mode": {
    "name": "ipython",
    "version": 3
   },
   "file_extension": ".py",
   "mimetype": "text/x-python",
   "name": "python",
   "nbconvert_exporter": "python",
   "pygments_lexer": "ipython3",
   "version": "3.10.13"
  },
  "papermill": {
   "default_parameters": {},
   "duration": 149.31632,
   "end_time": "2024-05-13T17:27:31.329613",
   "environment_variables": {},
   "exception": null,
   "input_path": "__notebook__.ipynb",
   "output_path": "__notebook__.ipynb",
   "parameters": {},
   "start_time": "2024-05-13T17:25:02.013293",
   "version": "2.5.0"
  }
 },
 "nbformat": 4,
 "nbformat_minor": 5
}

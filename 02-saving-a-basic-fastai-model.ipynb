{
 "cells": [
  {
   "cell_type": "markdown",
   "id": "b5d750d1",
   "metadata": {
    "id": "98d53c05",
    "papermill": {
     "duration": 0.004752,
     "end_time": "2024-05-13T19:56:01.458656",
     "exception": false,
     "start_time": "2024-05-13T19:56:01.453904",
     "status": "completed"
    },
    "tags": []
   },
   "source": [
    "## Saving a Cats v Dogs Model"
   ]
  },
  {
   "cell_type": "markdown",
   "id": "c23fb51b",
   "metadata": {
    "papermill": {
     "duration": 0.003902,
     "end_time": "2024-05-13T19:56:01.466996",
     "exception": false,
     "start_time": "2024-05-13T19:56:01.463094",
     "status": "completed"
    },
    "tags": []
   },
   "source": [
    "This is a minimal example showing how to train a fastai model on Kaggle, and save it so you can use it in your app."
   ]
  },
  {
   "cell_type": "code",
   "execution_count": 1,
   "id": "1a04d0ea",
   "metadata": {
    "_kg_hide-input": true,
    "_kg_hide-output": true,
    "execution": {
     "iopub.execute_input": "2024-05-13T19:56:01.476620Z",
     "iopub.status.busy": "2024-05-13T19:56:01.476271Z",
     "iopub.status.idle": "2024-05-13T19:56:15.814526Z",
     "shell.execute_reply": "2024-05-13T19:56:15.813276Z"
    },
    "id": "evvA0fqvSblq",
    "outputId": "ba21b811-767c-459a-ccdf-044758720a55",
    "papermill": {
     "duration": 14.345889,
     "end_time": "2024-05-13T19:56:15.816983",
     "exception": false,
     "start_time": "2024-05-13T19:56:01.471094",
     "status": "completed"
    },
    "tags": []
   },
   "outputs": [],
   "source": [
    "# Make sure we've got the latest version of fastai:\n",
    "!pip install -Uqq fastai"
   ]
  },
  {
   "cell_type": "markdown",
   "id": "47486eb2",
   "metadata": {
    "papermill": {
     "duration": 0.003971,
     "end_time": "2024-05-13T19:56:15.825611",
     "exception": false,
     "start_time": "2024-05-13T19:56:15.821640",
     "status": "completed"
    },
    "tags": []
   },
   "source": [
    "First, import all the stuff we need from fastai:"
   ]
  },
  {
   "cell_type": "code",
   "execution_count": 2,
   "id": "e7be748b",
   "metadata": {
    "execution": {
     "iopub.execute_input": "2024-05-13T19:56:15.835488Z",
     "iopub.status.busy": "2024-05-13T19:56:15.835152Z",
     "iopub.status.idle": "2024-05-13T19:56:26.690679Z",
     "shell.execute_reply": "2024-05-13T19:56:26.689864Z"
    },
    "id": "44eb0ad3",
    "papermill": {
     "duration": 10.86311,
     "end_time": "2024-05-13T19:56:26.692963",
     "exception": false,
     "start_time": "2024-05-13T19:56:15.829853",
     "status": "completed"
    },
    "tags": []
   },
   "outputs": [],
   "source": [
    "from fastai.vision.all import *"
   ]
  },
  {
   "cell_type": "markdown",
   "id": "d33fc05a",
   "metadata": {
    "papermill": {
     "duration": 0.004007,
     "end_time": "2024-05-13T19:56:26.701421",
     "exception": false,
     "start_time": "2024-05-13T19:56:26.697414",
     "status": "completed"
    },
    "tags": []
   },
   "source": [
    "Download and decompress our dataset, which is pictures of dogs and cats:"
   ]
  },
  {
   "cell_type": "code",
   "execution_count": 3,
   "id": "4f839c5f",
   "metadata": {
    "execution": {
     "iopub.execute_input": "2024-05-13T19:56:26.711039Z",
     "iopub.status.busy": "2024-05-13T19:56:26.710744Z",
     "iopub.status.idle": "2024-05-13T19:56:55.065147Z",
     "shell.execute_reply": "2024-05-13T19:56:55.064329Z"
    },
    "papermill": {
     "duration": 28.361852,
     "end_time": "2024-05-13T19:56:55.067426",
     "exception": false,
     "start_time": "2024-05-13T19:56:26.705574",
     "status": "completed"
    },
    "tags": []
   },
   "outputs": [
    {
     "data": {
      "text/html": [
       "\n",
       "<style>\n",
       "    /* Turns off some styling */\n",
       "    progress {\n",
       "        /* gets rid of default border in Firefox and Opera. */\n",
       "        border: none;\n",
       "        /* Needs to be in here for Safari polyfill so background images work as expected. */\n",
       "        background-size: auto;\n",
       "    }\n",
       "    progress:not([value]), progress:not([value])::-webkit-progress-bar {\n",
       "        background: repeating-linear-gradient(45deg, #7e7e7e, #7e7e7e 10px, #5c5c5c 10px, #5c5c5c 20px);\n",
       "    }\n",
       "    .progress-bar-interrupted, .progress-bar-interrupted::-webkit-progress-bar {\n",
       "        background: #F44336;\n",
       "    }\n",
       "</style>\n"
      ],
      "text/plain": [
       "<IPython.core.display.HTML object>"
      ]
     },
     "metadata": {},
     "output_type": "display_data"
    },
    {
     "data": {
      "text/html": [
       "\n",
       "    <div>\n",
       "      <progress value='811712512' class='' max='811706944' style='width:300px; height:20px; vertical-align: middle;'></progress>\n",
       "      100.00% [811712512/811706944 00:18&lt;00:00]\n",
       "    </div>\n",
       "    "
      ],
      "text/plain": [
       "<IPython.core.display.HTML object>"
      ]
     },
     "metadata": {},
     "output_type": "display_data"
    }
   ],
   "source": [
    "path = untar_data(URLs.PETS)/'images'"
   ]
  },
  {
   "cell_type": "markdown",
   "id": "c9790f4d",
   "metadata": {
    "papermill": {
     "duration": 0.004351,
     "end_time": "2024-05-13T19:56:55.076758",
     "exception": false,
     "start_time": "2024-05-13T19:56:55.072407",
     "status": "completed"
    },
    "tags": []
   },
   "source": [
    "We need a way to label our images as dogs or cats. In this dataset, pictures of cats are given a filename that starts with a capital letter:"
   ]
  },
  {
   "cell_type": "code",
   "execution_count": 4,
   "id": "a392899b",
   "metadata": {
    "execution": {
     "iopub.execute_input": "2024-05-13T19:56:55.086796Z",
     "iopub.status.busy": "2024-05-13T19:56:55.086472Z",
     "iopub.status.idle": "2024-05-13T19:56:55.090714Z",
     "shell.execute_reply": "2024-05-13T19:56:55.089884Z"
    },
    "id": "44eb0ad3",
    "papermill": {
     "duration": 0.011434,
     "end_time": "2024-05-13T19:56:55.092578",
     "exception": false,
     "start_time": "2024-05-13T19:56:55.081144",
     "status": "completed"
    },
    "tags": []
   },
   "outputs": [],
   "source": [
    "def is_cat(x): return x[0].isupper() "
   ]
  },
  {
   "cell_type": "markdown",
   "id": "70532a90",
   "metadata": {
    "papermill": {
     "duration": 0.004154,
     "end_time": "2024-05-13T19:56:55.101259",
     "exception": false,
     "start_time": "2024-05-13T19:56:55.097105",
     "status": "completed"
    },
    "tags": []
   },
   "source": [
    "Now we can create our `DataLoaders`:"
   ]
  },
  {
   "cell_type": "code",
   "execution_count": 5,
   "id": "8f2a31d5",
   "metadata": {
    "execution": {
     "iopub.execute_input": "2024-05-13T19:56:55.111122Z",
     "iopub.status.busy": "2024-05-13T19:56:55.110810Z",
     "iopub.status.idle": "2024-05-13T19:56:55.911035Z",
     "shell.execute_reply": "2024-05-13T19:56:55.910203Z"
    },
    "id": "44eb0ad3",
    "papermill": {
     "duration": 0.807775,
     "end_time": "2024-05-13T19:56:55.913408",
     "exception": false,
     "start_time": "2024-05-13T19:56:55.105633",
     "status": "completed"
    },
    "tags": []
   },
   "outputs": [],
   "source": [
    "dls = ImageDataLoaders.from_name_func('.',\n",
    "    get_image_files(path), valid_pct=0.2, seed=42,\n",
    "    label_func=is_cat,\n",
    "    item_tfms=Resize(224))"
   ]
  },
  {
   "cell_type": "markdown",
   "id": "005a4670",
   "metadata": {
    "papermill": {
     "duration": 0.004434,
     "end_time": "2024-05-13T19:56:55.922567",
     "exception": false,
     "start_time": "2024-05-13T19:56:55.918133",
     "status": "completed"
    },
    "tags": []
   },
   "source": [
    "... and train our model, a resnet18 (to keep it small and fast):"
   ]
  },
  {
   "cell_type": "code",
   "execution_count": 6,
   "id": "3c3e4e01",
   "metadata": {
    "execution": {
     "iopub.execute_input": "2024-05-13T19:56:55.938166Z",
     "iopub.status.busy": "2024-05-13T19:56:55.937727Z",
     "iopub.status.idle": "2024-05-13T19:58:25.787519Z",
     "shell.execute_reply": "2024-05-13T19:58:25.786424Z"
    },
    "id": "c107f724",
    "outputId": "fcc1de68-7c8b-43f5-b9eb-fcdb0773ef07",
    "papermill": {
     "duration": 89.860703,
     "end_time": "2024-05-13T19:58:25.789482",
     "exception": false,
     "start_time": "2024-05-13T19:56:55.928779",
     "status": "completed"
    },
    "tags": []
   },
   "outputs": [
    {
     "name": "stderr",
     "output_type": "stream",
     "text": [
      "/opt/conda/lib/python3.10/site-packages/fastai/vision/learner.py:301: UserWarning: `cnn_learner` has been renamed to `vision_learner` -- please update your code\n",
      "  warn(\"`cnn_learner` has been renamed to `vision_learner` -- please update your code\")\n",
      "Downloading: \"https://download.pytorch.org/models/resnet34-b627a593.pth\" to /root/.cache/torch/hub/checkpoints/resnet34-b627a593.pth\n",
      "100%|██████████| 83.3M/83.3M [00:00<00:00, 147MB/s]\n"
     ]
    },
    {
     "data": {
      "text/html": [
       "\n",
       "<style>\n",
       "    /* Turns off some styling */\n",
       "    progress {\n",
       "        /* gets rid of default border in Firefox and Opera. */\n",
       "        border: none;\n",
       "        /* Needs to be in here for Safari polyfill so background images work as expected. */\n",
       "        background-size: auto;\n",
       "    }\n",
       "    progress:not([value]), progress:not([value])::-webkit-progress-bar {\n",
       "        background: repeating-linear-gradient(45deg, #7e7e7e, #7e7e7e 10px, #5c5c5c 10px, #5c5c5c 20px);\n",
       "    }\n",
       "    .progress-bar-interrupted, .progress-bar-interrupted::-webkit-progress-bar {\n",
       "        background: #F44336;\n",
       "    }\n",
       "</style>\n"
      ],
      "text/plain": [
       "<IPython.core.display.HTML object>"
      ]
     },
     "metadata": {},
     "output_type": "display_data"
    },
    {
     "data": {
      "text/html": [
       "<table border=\"1\" class=\"dataframe\">\n",
       "  <thead>\n",
       "    <tr style=\"text-align: left;\">\n",
       "      <th>epoch</th>\n",
       "      <th>train_loss</th>\n",
       "      <th>valid_loss</th>\n",
       "      <th>error_rate</th>\n",
       "      <th>time</th>\n",
       "    </tr>\n",
       "  </thead>\n",
       "  <tbody>\n",
       "    <tr>\n",
       "      <td>0</td>\n",
       "      <td>0.176227</td>\n",
       "      <td>0.018857</td>\n",
       "      <td>0.006766</td>\n",
       "      <td>00:22</td>\n",
       "    </tr>\n",
       "  </tbody>\n",
       "</table>"
      ],
      "text/plain": [
       "<IPython.core.display.HTML object>"
      ]
     },
     "metadata": {},
     "output_type": "display_data"
    },
    {
     "data": {
      "text/html": [
       "\n",
       "<style>\n",
       "    /* Turns off some styling */\n",
       "    progress {\n",
       "        /* gets rid of default border in Firefox and Opera. */\n",
       "        border: none;\n",
       "        /* Needs to be in here for Safari polyfill so background images work as expected. */\n",
       "        background-size: auto;\n",
       "    }\n",
       "    progress:not([value]), progress:not([value])::-webkit-progress-bar {\n",
       "        background: repeating-linear-gradient(45deg, #7e7e7e, #7e7e7e 10px, #5c5c5c 10px, #5c5c5c 20px);\n",
       "    }\n",
       "    .progress-bar-interrupted, .progress-bar-interrupted::-webkit-progress-bar {\n",
       "        background: #F44336;\n",
       "    }\n",
       "</style>\n"
      ],
      "text/plain": [
       "<IPython.core.display.HTML object>"
      ]
     },
     "metadata": {},
     "output_type": "display_data"
    },
    {
     "data": {
      "text/html": [
       "<table border=\"1\" class=\"dataframe\">\n",
       "  <thead>\n",
       "    <tr style=\"text-align: left;\">\n",
       "      <th>epoch</th>\n",
       "      <th>train_loss</th>\n",
       "      <th>valid_loss</th>\n",
       "      <th>error_rate</th>\n",
       "      <th>time</th>\n",
       "    </tr>\n",
       "  </thead>\n",
       "  <tbody>\n",
       "    <tr>\n",
       "      <td>0</td>\n",
       "      <td>0.059270</td>\n",
       "      <td>0.025887</td>\n",
       "      <td>0.006766</td>\n",
       "      <td>00:21</td>\n",
       "    </tr>\n",
       "    <tr>\n",
       "      <td>1</td>\n",
       "      <td>0.034637</td>\n",
       "      <td>0.017529</td>\n",
       "      <td>0.005413</td>\n",
       "      <td>00:22</td>\n",
       "    </tr>\n",
       "    <tr>\n",
       "      <td>2</td>\n",
       "      <td>0.019073</td>\n",
       "      <td>0.012280</td>\n",
       "      <td>0.003383</td>\n",
       "      <td>00:22</td>\n",
       "    </tr>\n",
       "  </tbody>\n",
       "</table>"
      ],
      "text/plain": [
       "<IPython.core.display.HTML object>"
      ]
     },
     "metadata": {},
     "output_type": "display_data"
    }
   ],
   "source": [
    "learn = cnn_learner(dls, resnet34, metrics=error_rate)\n",
    "learn.fine_tune(3)"
   ]
  },
  {
   "cell_type": "markdown",
   "id": "812fc5b2",
   "metadata": {
    "papermill": {
     "duration": 0.005727,
     "end_time": "2024-05-13T19:58:25.802404",
     "exception": false,
     "start_time": "2024-05-13T19:58:25.796677",
     "status": "completed"
    },
    "tags": []
   },
   "source": [
    "Now we can export our trained `Learner`. This contains all the information needed to run the model:"
   ]
  },
  {
   "cell_type": "code",
   "execution_count": 7,
   "id": "1097df17",
   "metadata": {
    "execution": {
     "iopub.execute_input": "2024-05-13T19:58:25.815957Z",
     "iopub.status.busy": "2024-05-13T19:58:25.815333Z",
     "iopub.status.idle": "2024-05-13T19:58:26.008118Z",
     "shell.execute_reply": "2024-05-13T19:58:26.007118Z"
    },
    "id": "ae2bc6ac",
    "papermill": {
     "duration": 0.202357,
     "end_time": "2024-05-13T19:58:26.010585",
     "exception": false,
     "start_time": "2024-05-13T19:58:25.808228",
     "status": "completed"
    },
    "tags": []
   },
   "outputs": [],
   "source": [
    "learn.export('model.pkl')"
   ]
  },
  {
   "cell_type": "markdown",
   "id": "2e660e71",
   "metadata": {
    "id": "Q2HTrQKTf3BV",
    "papermill": {
     "duration": 0.005646,
     "end_time": "2024-05-13T19:58:26.022445",
     "exception": false,
     "start_time": "2024-05-13T19:58:26.016799",
     "status": "completed"
    },
    "tags": []
   },
   "source": [
    "Finally, open the Kaggle sidebar on the right if it's not already, and find the section marked \"Output\". Open the `/kaggle/working` folder, and you'll see `model.pkl`. Click on it, then click on the menu on the right that appears, and choose \"Download\". After a few seconds, your model will be downloaded to your computer, where you can then create your app that uses the model."
   ]
  }
 ],
 "metadata": {
  "kaggle": {
   "accelerator": "gpu",
   "dataSources": [],
   "dockerImageVersionId": 30698,
   "isGpuEnabled": true,
   "isInternetEnabled": true,
   "language": "python",
   "sourceType": "notebook"
  },
  "kernelspec": {
   "display_name": "Python 3",
   "language": "python",
   "name": "python3"
  },
  "language_info": {
   "codemirror_mode": {
    "name": "ipython",
    "version": 3
   },
   "file_extension": ".py",
   "mimetype": "text/x-python",
   "name": "python",
   "nbconvert_exporter": "python",
   "pygments_lexer": "ipython3",
   "version": "3.10.13"
  },
  "papermill": {
   "default_parameters": {},
   "duration": 150.286408,
   "end_time": "2024-05-13T19:58:28.951133",
   "environment_variables": {},
   "exception": null,
   "input_path": "__notebook__.ipynb",
   "output_path": "__notebook__.ipynb",
   "parameters": {},
   "start_time": "2024-05-13T19:55:58.664725",
   "version": "2.5.0"
  }
 },
 "nbformat": 4,
 "nbformat_minor": 5
}
